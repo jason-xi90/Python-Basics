{
 "cells": [
  {
   "cell_type": "markdown",
   "metadata": {},
   "source": [
    "# Parking Garage Project\n",
    "\n",
    "Your assignment for today is to create a parking garage class to get more familiar with Object Oriented Programming(OOP). \n",
    "\n",
    "Your parking gargage class should have the following methods:\n",
    "- takeTicket\n",
    "   - This should decrease the amount of tickets available by 1\n",
    "   - This should decrease the amount of parkingSpaces available by 1\n",
    "- payForParking\n",
    "   - Display an input that waits for an amount from the user and store it in a variable\n",
    "   - If the payment variable is not empty then ->  display a message to the user that their ticket has been paid and they have 15mins to leave\n",
    "   - This should update the \"currentTicket\" dictionary key \"paid\" to True\n",
    "-leaveGarage\n",
    "   - If the ticket has been paid, display a message of \"Thank You, have a nice day\"\n",
    "   - If the ticket has not been paid, display an input prompt for payment\n",
    "      - Once paid, display message \"Thank you, have a nice day!\"\n",
    "   - Update parkingSpaces list to increase by 1\n",
    "   - Update tickets list to increase by 1\n",
    "\n",
    "You will need a few attributes as well:\n",
    "- tickets -> list\n",
    "- parkingSpaces -> list\n",
    "- currentTicket -> dictionary"
   ]
  },
  {
   "cell_type": "code",
   "execution_count": 54,
   "metadata": {},
   "outputs": [
    {
     "name": "stdout",
     "output_type": "stream",
     "text": [
      "Your ticket has been paid! You have 15 minutes to leave\n"
     ]
    }
   ],
   "source": [
    "class parkingGarage():\n",
    "\n",
    "    def __init__(self):\n",
    "        self.tickets = [*range(0,10)]\n",
    "        self.parkingSpaces = [*range(0,10)]\n",
    "\n",
    "    def takeTicket(self, numberoftickets, numberofparkingSpaces):\n",
    "        if numberoftickets >0 and len(self.tickets)>0:\n",
    "            self.tickets.pop()\n",
    "            return self.tickets\n",
    "        else:\n",
    "            print(\"We are out of tickets\")\n",
    "\n",
    "        if numberofparkingSpaces >0 and len(self.parkingSpaces)>0:\n",
    "            self.parkingSpaces.pop()\n",
    "            return self.parkingSpaces\n",
    "        else:\n",
    "            print(\"We are out of parking spots\")\n",
    "\n",
    "    def payForParking(self, payment):\n",
    "        self.currentTicket = {}\n",
    "\n",
    "        while True:\n",
    "            payment = input('Please enter an amount to pay the parking:')\n",
    "\n",
    "            if payment != '':\n",
    "                print('Your ticket has been paid! You have 15 minutes to leave')\n",
    "                self.currentTicket == {\"Paid\":True}\n",
    "                break\n",
    "        \n",
    "            if self.currentTicket == {\"Paid\":True}:\n",
    "                print('Thank you, have a nice day')\n",
    "                self.tickets.append()\n",
    "                self.parkingSpaces.append()\n",
    "            else:\n",
    "                print('Please pay your parking')\n",
    "\n",
    "object = parkingGarage()\n",
    "object.takeTicket(1,1)\n",
    "object.payForParking(10)\n",
    "\n",
    "\n",
    "\n",
    "\n",
    "    \n",
    "    \n",
    "\n",
    "\n",
    "\n",
    "    \n",
    "\n",
    "\n",
    "\n",
    "\n",
    "\n",
    "\n",
    "\n",
    "        \n",
    "\n",
    "    "
   ]
  }
 ],
 "metadata": {
  "kernelspec": {
   "display_name": "Python 3",
   "language": "python",
   "name": "python3"
  },
  "language_info": {
   "codemirror_mode": {
    "name": "ipython",
    "version": 3
   },
   "file_extension": ".py",
   "mimetype": "text/x-python",
   "name": "python",
   "nbconvert_exporter": "python",
   "pygments_lexer": "ipython3",
   "version": "3.8.2"
  },
  "vscode": {
   "interpreter": {
    "hash": "507317297c2071b102c545a8005e942338072417761d163cf09c6958a8af51fa"
   }
  }
 },
 "nbformat": 4,
 "nbformat_minor": 2
}
